{
 "cells": [
  {
   "cell_type": "markdown",
   "metadata": {},
   "source": [
    "# Fourier series\n",
    "\n",
    "This workbook explores the Fourier series representation of signals.  It is shown how symbolic methods can be used to calculate series coefficients, and the accuracy of the time-domain reconstruction for different numbers of coefficients is also considered."
   ]
  },
  {
   "cell_type": "markdown",
   "metadata": {
    "collapsed": true
   },
   "source": [
    "## Background\n",
    "\n",
    "Any signal $x(t)$ that is periodic with a period $T$ can be written in a Fourier series form\n",
    "$$x(t) = \\sum_{k=-\\infty}^\\infty c_k e^{j k \\omega_0 t}$$\n",
    "with $\\omega_0 = 2\\pi/T = \\pi$ radians per second.  The coefficients satisfy\n",
    "$$c_k = \\frac{1}{T} \\int_{-T/2}^{T/2} x(t) e^{-j k \\omega_0 t} dt.$$\n",
    "\n",
    "For real signals with $x(t) = x^\\ast(t)$ one can show that $c_{-k} = c_k^{\\ast}$.  Writing in polar form $c_{k} = |c_{k}| e^{j \\angle c_{k}}$ the series becomes\n",
    "$$\n",
    "x(t) = c_0 + \\sum_{k=1}^\\infty ( c_k e^{j k \\omega_0 t} + c_{-k} e^{-j k \\omega_0 t} )\n",
    "= c_0 + \\sum_{k=1}^\\infty |c_{k}| ( e^{j k \\omega_0 t} e^{j \\angle c_{k}} + e^{-j k \\omega_0 t} e^{-j \\angle c_{k}})\n",
    "= c_0 + \\sum_{k=1}^\\infty 2 |c_{k}| \\cos(\\omega_0 t + \\angle c_{k})\n",
    "$$\n",
    "\n",
    "The coefficient $c_k$ corresponds to a complex exponential with frequency $k \\omega_0$.  We call the component of the signal with frequency $k \\omega_0$ the $k$th *harmonic*.  The first harmonic is also called the *fundamental*."
   ]
  },
  {
   "cell_type": "markdown",
   "metadata": {},
   "source": [
    "## Signal definition and analysis\n",
    "\n",
    "The following periodic signal is considered throughout this workbook:  \n",
    "\n",
    "![](figures/rectpulsetrain.png)\n",
    "\n",
    "The signal is has period $T=8$, and $\\omega_0 = 2 \\pi/8 = \\pi/4$.  We can find the corresponding Fourier series coefficients:\n",
    "$$c_k = \\frac{1}{T} \\int_{-T/2}^{T/2} x(t) e^{-j k \\omega_0 t} dt\n",
    "= \\frac{1}{T} \\int_{-2}^{2} e^{-j k \\omega_0 t} dt \n",
    "= \\frac{1}{j k \\omega_0 T} [-e^{-j k \\omega_0 t}]_{t=-2}^{2}\n",
    "= \\frac{2}{k \\omega_0 T} \\sin(2 k \\omega_0).\n",
    "$$\n",
    "Additionally, the DC coefficient $c_0 = 4/8$."
   ]
  },
  {
   "cell_type": "markdown",
   "metadata": {},
   "source": [
    "## Fourier series reconstruction\n",
    "\n",
    "For a given set of coefficients $c_k$ we want to be able to plot the corresponding $x(t)$.  The function defined in the cell below takes a set of Fourier series coefficients for a real signal `ckv` and a fundamental frequency `omega0`, and calculates reconstructed values `xv` at time instants `tv`."
   ]
  },
  {
   "cell_type": "code",
   "execution_count": 1,
   "metadata": {},
   "outputs": [],
   "source": [
    "import numpy as np\n",
    "import matplotlib.pyplot as plt\n",
    "%matplotlib notebook\n",
    "\n",
    "def fsrrec(ckv,omega0,tv):\n",
    "    \"\"\"Generate samples from real Fourier series representation\n",
    "    ckv - 0 to N Fourier series coefficients\n",
    "    omega0 - fundamental frequency\n",
    "    tv - input time points  \n",
    "    returns xv - output values\n",
    "    \"\"\"\n",
    "    \n",
    "    xv = ckv[0]*np.ones(tv.shape);\n",
    "    for k in range(1,len(ckv)):\n",
    "        xv = xv + 2*np.abs(ckv[k])*np.cos(k*omega0*tv + np.angle(ckv[k]));  # update with kth harmonic component\n",
    "        \n",
    "    return(np.real(xv));\n",
    "# end def"
   ]
  },
  {
   "cell_type": "code",
   "execution_count": 2,
   "metadata": {},
   "outputs": [],
   "source": [
    "def fsrrec_plots(ckv,omega0,tv):\n",
    "    \"\"\"The same as fssrec, but also outputs a plot of the individual harmonic components\n",
    "    \"\"\"\n",
    "    \n",
    "    xv = ckv[0]*np.ones(tv.shape); \n",
    "    #tv.shape returns the dimensions of the matrix (or, in this case, array) tv.\n",
    "    #np.ones creates an array of the input size populated with 1's\n",
    "    plt.figure(1)\n",
    "    plt.plot(tv,xv)\n",
    "    for k in range(1,len(ckv)):\n",
    "        kh = 2*np.abs(ckv[k])*np.cos(k*omega0*tv + np.angle(ckv[k]));  #create kth harmonic\n",
    "        plt.plot(tv,kh);\n",
    "        \n",
    "        xv = xv + kh; #add kth harmonic to x \n",
    "    plt.show()\n",
    "    return(np.real(xv));\n",
    "# end def"
   ]
  },
  {
   "cell_type": "markdown",
   "metadata": {},
   "source": [
    "The cell below uses the derived expression for the coefficients of the signal and stores them in the vector `ckv`.  The $k$th element of `ckv` contains the coefficient $c_k$."
   ]
  },
  {
   "cell_type": "code",
   "execution_count": 3,
   "metadata": {},
   "outputs": [],
   "source": [
    "# Fourier series coefficients for rectangular pulse train\n",
    "T = 8;  # period\n",
    "N = 10;  # maximum number of terms\n",
    "omega0 = 2*np.pi/T;\n",
    "ckv = np.zeros(N+1, dtype=np.complex64);\n",
    "#np.zeros is like np.ones but with 0's\n",
    "\n",
    "for k in range(1,N+1):  ckv[k] = 2/(k*omega0*T)*np.sin(2*k*omega0);\n",
    "ckv[0] = 4/8;"
   ]
  },
  {
   "cell_type": "markdown",
   "metadata": {},
   "source": [
    "We can use the `fsrrec` function to find the time-domain representation of the signal $x(t)$ using a finite number of terms in the reconstruction.  The code below does this and plots the result."
   ]
  },
  {
   "cell_type": "code",
   "execution_count": 4,
   "metadata": {},
   "outputs": [
    {
     "data": {
      "image/png": "[encoded data removed]",
      "text/plain": [
       "<Figure size 432x288 with 1 Axes>"
      ]
     },
     "metadata": {
      "needs_background": "light"
     },
     "output_type": "display_data"
    }
   ],
   "source": [
    "# Reconstruct from series representation and plot\n",
    "tv = np.linspace(-10,10,10000);\n",
    "xv = fsrrec(ckv,omega0,tv);\n",
    "#xv = fsrrec_plots(ckv,omega0,tv);\n",
    "plt.figure(2)\n",
    "plt.plot(tv,xv,'r');\n",
    "plt.xlabel('t');  plt.ylabel('x(t) reconstruction from ' + str(N) + ' terms');"
   ]
  },
  {
   "cell_type": "markdown",
   "metadata": {},
   "source": [
    "## Finding the coefficients using symbolic math\n",
    "\n",
    "This section will show how we can calculate the Fourier series coefficients of a signal using symbolic manipulation.  The first thing to do is symbolically define the signal.  The `Piecewise` function lets you define a signal over different pieces."
   ]
  },
  {
   "cell_type": "code",
   "execution_count": 9,
   "metadata": {},
   "outputs": [
    {
     "data": {
      "image/png": "[encoded data removed]",
      "text/plain": [
       "<Figure size 432x288 with 1 Axes>"
      ]
     },
     "metadata": {
      "needs_background": "light"
     },
     "output_type": "display_data"
    }
   ],
   "source": [
    "import sympy as sp\n",
    "#sp.init_printing();  # pretty printing\n",
    "\n",
    "t = sp.symbols('t')\n",
    "x = sp.Piecewise( (0, t<=-2), (1, t<2), (0, True));\n",
    "# sp.plot(x, (t,-4,4));  # worked in Python 2.8!\n",
    "sp.plot(x.subs(t,sp.re(t)), (t,-4,4));  # plot (forcing t real)\n",
    "\n",
    "#?sp.Piecewise() #uncomment if you want more information about this function"
   ]
  },
  {
   "cell_type": "markdown",
   "metadata": {},
   "source": [
    "The following cell defines the symbolic integral for computing the coefficients."
   ]
  },
  {
   "cell_type": "code",
   "execution_count": 6,
   "metadata": {},
   "outputs": [
    {
     "data": {
      "text/latex": [
       "$\\displaystyle \\frac{\\begin{cases} - \\frac{4.0 i e^{0.5 i \\pi k}}{\\pi k} + \\frac{4.0 i e^{- 0.5 i \\pi k}}{\\pi k} & \\text{for}\\: k > -\\infty \\wedge k < \\infty \\wedge k \\neq 0 \\\\4 & \\text{otherwise} \\end{cases}}{8}$"
      ],
      "text/plain": [
       "Piecewise((-4.0*I*exp(0.5*I*pi*k)/(pi*k) + 4.0*I*exp(-0.5*I*pi*k)/(pi*k), (k > -oo) & (k < oo) & Ne(k, 0)), (4, True))/8"
      ]
     },
     "execution_count": 6,
     "metadata": {},
     "output_type": "execute_result"
    }
   ],
   "source": [
    "Ts, k, w0 = sp.symbols('Ts k w0');\n",
    "w0 = 2*sp.pi/Ts;\n",
    "expt = sp.exp(-1j*k*w0*t);\n",
    "cke = 1/Ts*sp.integrate(x*expt, (t, -Ts/2, Ts/2));\n",
    "#cke = sp.integrate(x*expt, (t, -sp.oo, T/2)) - sp.integrate(x*expt, (t, -sp.oo, -T/2));  # alternative\n",
    "ck = cke.subs(Ts,T).doit();  # set value for period and evaluate\n",
    "ck"
   ]
  },
  {
   "cell_type": "markdown",
   "metadata": {},
   "source": [
    "We now define a vector `kv` of coefficients of interest, and populate corresponding elements of `ckv` with the coefficient values."
   ]
  },
  {
   "cell_type": "code",
   "execution_count": 7,
   "metadata": {},
   "outputs": [
    {
     "data": {
      "text/plain": [
       "array([ 0.        +0.j,  0.03536776+0.j, -0.        +0.j, -0.04547284+0.j,\n",
       "        0.        +0.j,  0.06366198+0.j, -0.        +0.j, -0.10610329+0.j,\n",
       "        0.        +0.j,  0.31830987+0.j,  0.5       +0.j,  0.31830987+0.j,\n",
       "        0.        +0.j, -0.10610329+0.j, -0.        +0.j,  0.06366198+0.j,\n",
       "        0.        +0.j, -0.04547284+0.j, -0.        +0.j,  0.03536776+0.j,\n",
       "        0.        +0.j], dtype=complex64)"
      ]
     },
     "execution_count": 7,
     "metadata": {},
     "output_type": "execute_result"
    }
   ],
   "source": [
    "kv = np.arange(-10,11);  # coefficients to calculate\n",
    "#by default, np.arange returns the integers between the given start and end points\n",
    "\n",
    "ckvs = np.zeros(kv.shape, dtype=np.complex64);  # corresponding coefficient values\n",
    "for i in range(len(kv)):\n",
    "    ki = kv[i];  \n",
    "    ckvs[i] = ck.subs({k:ki}).evalf();\n",
    "ckvs"
   ]
  },
  {
   "cell_type": "markdown",
   "metadata": {},
   "source": [
    "Now we can plot the frequency-domain representation of the signal $x(t)$ by displaying the value of $c_k$ for each value $k$ of interest.  Since $c_k$ can in general be complex we need two plots:  one for magnitude and one for phase."
   ]
  },
  {
   "cell_type": "code",
   "execution_count": 8,
   "metadata": {},
   "outputs": [
    {
     "ename": "TypeError",
     "evalue": "stem() got an unexpected keyword argument 'c'",
     "output_type": "error",
     "traceback": [
      "\u001b[0;31m---------------------------------------------------------------------------\u001b[0m",
      "\u001b[0;31mTypeError\u001b[0m                                 Traceback (most recent call last)",
      "\u001b[0;32m<ipython-input-8-07e1feb2452a>\u001b[0m in \u001b[0;36m<module>\u001b[0;34m\u001b[0m\n\u001b[1;32m      1\u001b[0m \u001b[0mfh\u001b[0m\u001b[0;34m,\u001b[0m \u001b[0max\u001b[0m \u001b[0;34m=\u001b[0m \u001b[0mplt\u001b[0m\u001b[0;34m.\u001b[0m\u001b[0msubplots\u001b[0m\u001b[0;34m(\u001b[0m\u001b[0;36m2\u001b[0m\u001b[0;34m)\u001b[0m\u001b[0;34m;\u001b[0m\u001b[0;34m\u001b[0m\u001b[0;34m\u001b[0m\u001b[0m\n\u001b[0;32m----> 2\u001b[0;31m \u001b[0max\u001b[0m\u001b[0;34m[\u001b[0m\u001b[0;36m0\u001b[0m\u001b[0;34m]\u001b[0m\u001b[0;34m.\u001b[0m\u001b[0mstem\u001b[0m\u001b[0;34m(\u001b[0m\u001b[0mkv\u001b[0m\u001b[0;34m,\u001b[0m \u001b[0mnp\u001b[0m\u001b[0;34m.\u001b[0m\u001b[0mabs\u001b[0m\u001b[0;34m(\u001b[0m\u001b[0mckvs\u001b[0m\u001b[0;34m)\u001b[0m\u001b[0;34m,\u001b[0m \u001b[0mc\u001b[0m\u001b[0;34m=\u001b[0m\u001b[0;34m'g'\u001b[0m\u001b[0;34m)\u001b[0m\u001b[0;34m;\u001b[0m  \u001b[0max\u001b[0m\u001b[0;34m[\u001b[0m\u001b[0;36m0\u001b[0m\u001b[0;34m]\u001b[0m\u001b[0;34m.\u001b[0m\u001b[0mset_ylabel\u001b[0m\u001b[0;34m(\u001b[0m\u001b[0;34mr'$|c_k|$'\u001b[0m\u001b[0;34m)\u001b[0m\u001b[0;34m;\u001b[0m\u001b[0;34m\u001b[0m\u001b[0;34m\u001b[0m\u001b[0m\n\u001b[0m\u001b[1;32m      3\u001b[0m \u001b[0max\u001b[0m\u001b[0;34m[\u001b[0m\u001b[0;36m1\u001b[0m\u001b[0;34m]\u001b[0m\u001b[0;34m.\u001b[0m\u001b[0mstem\u001b[0m\u001b[0;34m(\u001b[0m\u001b[0mkv\u001b[0m\u001b[0;34m,\u001b[0m \u001b[0mnp\u001b[0m\u001b[0;34m.\u001b[0m\u001b[0mangle\u001b[0m\u001b[0;34m(\u001b[0m\u001b[0mckvs\u001b[0m\u001b[0;34m)\u001b[0m\u001b[0;34m,\u001b[0m \u001b[0mc\u001b[0m\u001b[0;34m=\u001b[0m\u001b[0;34m'g'\u001b[0m\u001b[0;34m)\u001b[0m\u001b[0;34m;\u001b[0m  \u001b[0max\u001b[0m\u001b[0;34m[\u001b[0m\u001b[0;36m1\u001b[0m\u001b[0;34m]\u001b[0m\u001b[0;34m.\u001b[0m\u001b[0mset_ylabel\u001b[0m\u001b[0;34m(\u001b[0m\u001b[0;34mr'$\\angle c_k$'\u001b[0m\u001b[0;34m)\u001b[0m\u001b[0;34m;\u001b[0m\u001b[0;34m\u001b[0m\u001b[0;34m\u001b[0m\u001b[0m\n\u001b[1;32m      4\u001b[0m \u001b[0mplt\u001b[0m\u001b[0;34m.\u001b[0m\u001b[0mxlabel\u001b[0m\u001b[0;34m(\u001b[0m\u001b[0;34m'$k$'\u001b[0m\u001b[0;34m)\u001b[0m\u001b[0;34m;\u001b[0m\u001b[0;34m\u001b[0m\u001b[0;34m\u001b[0m\u001b[0m\n",
      "\u001b[0;32m~/anaconda3/lib/python3.7/site-packages/matplotlib/__init__.py\u001b[0m in \u001b[0;36minner\u001b[0;34m(ax, data, *args, **kwargs)\u001b[0m\n\u001b[1;32m   1587\u001b[0m     \u001b[0;32mdef\u001b[0m \u001b[0minner\u001b[0m\u001b[0;34m(\u001b[0m\u001b[0max\u001b[0m\u001b[0;34m,\u001b[0m \u001b[0;34m*\u001b[0m\u001b[0margs\u001b[0m\u001b[0;34m,\u001b[0m \u001b[0mdata\u001b[0m\u001b[0;34m=\u001b[0m\u001b[0;32mNone\u001b[0m\u001b[0;34m,\u001b[0m \u001b[0;34m**\u001b[0m\u001b[0mkwargs\u001b[0m\u001b[0;34m)\u001b[0m\u001b[0;34m:\u001b[0m\u001b[0;34m\u001b[0m\u001b[0;34m\u001b[0m\u001b[0m\n\u001b[1;32m   1588\u001b[0m         \u001b[0;32mif\u001b[0m \u001b[0mdata\u001b[0m \u001b[0;32mis\u001b[0m \u001b[0;32mNone\u001b[0m\u001b[0;34m:\u001b[0m\u001b[0;34m\u001b[0m\u001b[0;34m\u001b[0m\u001b[0m\n\u001b[0;32m-> 1589\u001b[0;31m             \u001b[0;32mreturn\u001b[0m \u001b[0mfunc\u001b[0m\u001b[0;34m(\u001b[0m\u001b[0max\u001b[0m\u001b[0;34m,\u001b[0m \u001b[0;34m*\u001b[0m\u001b[0mmap\u001b[0m\u001b[0;34m(\u001b[0m\u001b[0msanitize_sequence\u001b[0m\u001b[0;34m,\u001b[0m \u001b[0margs\u001b[0m\u001b[0;34m)\u001b[0m\u001b[0;34m,\u001b[0m \u001b[0;34m**\u001b[0m\u001b[0mkwargs\u001b[0m\u001b[0;34m)\u001b[0m\u001b[0;34m\u001b[0m\u001b[0;34m\u001b[0m\u001b[0m\n\u001b[0m\u001b[1;32m   1590\u001b[0m \u001b[0;34m\u001b[0m\u001b[0m\n\u001b[1;32m   1591\u001b[0m         \u001b[0mbound\u001b[0m \u001b[0;34m=\u001b[0m \u001b[0mnew_sig\u001b[0m\u001b[0;34m.\u001b[0m\u001b[0mbind\u001b[0m\u001b[0;34m(\u001b[0m\u001b[0max\u001b[0m\u001b[0;34m,\u001b[0m \u001b[0;34m*\u001b[0m\u001b[0margs\u001b[0m\u001b[0;34m,\u001b[0m \u001b[0;34m**\u001b[0m\u001b[0mkwargs\u001b[0m\u001b[0;34m)\u001b[0m\u001b[0;34m\u001b[0m\u001b[0;34m\u001b[0m\u001b[0m\n",
      "\u001b[0;31mTypeError\u001b[0m: stem() got an unexpected keyword argument 'c'"
     ]
    },
    {
     "data": {
      "image/png": "[encoded data removed]",
      "text/plain": [
       "<Figure size 432x288 with 2 Axes>"
      ]
     },
     "metadata": {
      "needs_background": "light"
     },
     "output_type": "display_data"
    }
   ],
   "source": [
    "fh, ax = plt.subplots(2);\n",
    "ax[0].stem(kv, np.abs(ckvs), c='g');  ax[0].set_ylabel(r'$|c_k|$');\n",
    "ax[1].stem(kv, np.angle(ckvs), c='g');  ax[1].set_ylabel(r'$\\angle c_k$');\n",
    "plt.xlabel('$k$');"
   ]
  },
  {
   "cell_type": "markdown",
   "metadata": {},
   "source": [
    "We could also have created a lambda function from the symbolic expression.  This function takes an array of values for $k$ and calculates $c_k$ directly.  Note though that at least on my version of Python `lam_ck(0)` generates a divide-by-zero error."
   ]
  },
  {
   "cell_type": "code",
   "execution_count": null,
   "metadata": {},
   "outputs": [],
   "source": [
    "lam_ck = sp.lambdify(k,ck,modules=['numpy']);\n",
    "lam_ck(np.array((1,2,3)))"
   ]
  },
  {
   "cell_type": "markdown",
   "metadata": {
    "collapsed": true
   },
   "source": [
    "With numerical values for the coefficients, obtained via symbolic computation, we can plot the partial sum for the time-domain reconstruction as before.  Recall that our `fsrrec` function only takes the coefficients for nonnegative index values."
   ]
  },
  {
   "cell_type": "code",
   "execution_count": null,
   "metadata": {},
   "outputs": [],
   "source": [
    "kzi = np.where(kv==0)[0][0];  # index for zero element\n",
    "ckvsp = ckvs[kzi:];\n",
    "tv = np.linspace(-10,10,10000);\n",
    "xv = fsrrec(ckvsp,2*np.pi/T,tv);\n",
    "\n",
    "fh = plt.figure();\n",
    "plt.plot(tv,xv,'r');\n",
    "plt.xlabel('t');  plt.ylabel('x(t) reconstruction from ' + str(len(ckvsp)-1) + ' terms');"
   ]
  },
  {
   "cell_type": "markdown",
   "metadata": {},
   "source": [
    "# Tasks\n",
    "\n",
    "These tasks involve writing code, or modifying existing code, to meet the objectives described.\n",
    "\n",
    "1.  Find and plot the Fourier series frequency-domain representation for the signal $x_1(t)$ below over the range $k=-8, \\ldots, 8$:\n",
    "![](figures/rectpulsetrainshift.png)\n",
    "Do this using both symbolic processing and by evaluating the integral for the coefficients by hand.  Compare the result with that displayed earlier for $x(t)$.  Note that the signals are related in time by $x_1(t) = x(t-2)$.\n",
    "<br><br>\n",
    "You should observe that shifting a signal only changes the phase in the frequency domain, while the magnitude remains unchanged.<br><br>\n",
    "\n",
    "* Use symbolic processing to find and plot the frequency-domain representation of $x_2(t)$ below over the range $k=-8, \\ldots, 8$:\n",
    "![](figures/tripulsetrain.png)\n",
    "Also plot the reconstruction over the range $t=-4$ to $t=4$ using only components up to and including the $5$th harmonic.\n",
    "<br><br>\n",
    "You should find that as $k$ increases the magnitude of the coefficients in this case falls off much faster than those of $x(t)$.  This is because $x_2(t)$ is smoother (it is at least continuous, while $x(t)$ is discontinuous).  The reconstruction is therefore also more accurate with a smaller number of terms.<br><br>\n",
    "\n",
    "* Find and plot the frequency-domain representation of $x_3(t)$ below over the range $k=-8, \\ldots, 8$.\n",
    "![](figures/sawpulsetrain.png)"
   ]
  },
  {
   "cell_type": "code",
   "execution_count": null,
   "metadata": {},
   "outputs": [],
   "source": []
  }
 ],
 "metadata": {
  "anaconda-cloud": {},
  "kernelspec": {
   "display_name": "Python 3",
   "language": "python",
   "name": "python3"
  },
  "language_info": {
   "codemirror_mode": {
    "name": "ipython",
    "version": 3
   },
   "file_extension": ".py",
   "mimetype": "text/x-python",
   "name": "python",
   "nbconvert_exporter": "python",
   "pygments_lexer": "ipython3",
   "version": "3.7.3"
  }
 },
 "nbformat": 4,
 "nbformat_minor": 1
}
