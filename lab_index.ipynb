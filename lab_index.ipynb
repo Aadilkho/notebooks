{
 "cells": [
  {
   "cell_type": "markdown",
   "metadata": {},
   "source": [
    "# Laboratories"
   ]
  },
  {
   "cell_type": "markdown",
   "metadata": {},
   "source": [
    "Basic structure:\n",
    "\n",
    "* lab_intro.ipynb:  http://localhost:8888/notebooks/lab_intro.ipynb<br>\n",
    "Getting started, Jupyter, Git, Numpy, Matplotlib.  Tasks involve calculating with numpy arrays and plotting (basic, subplot, complex, 3d).\n",
    "<br><br>\n",
    "\n",
    "* lab_symintro.ipynb:  http://localhost:8888/notebooks/lab_symintro.ipynb<br>\n",
    "Symbolic math with sympy, basic and advanced differentiation, symbolic plotting and integration.  Tasks involve symbolic plotting, roots, differentiation, and integration.\n",
    "<br>\n",
    "* lab_taylorexp.ipynb (optional): http://localhost:8888/notebooks/lab_taylorexp.ipynb<br>\n",
    "Basic Taylor expansion for symbolic expression.  Tasks involve plotting approximation for different orders.<br>\n",
    "* lab_newtonm.ipynb (optional):  http://localhost:8888/notebooks/lab_newtonm.ipynb<br>\n",
    "Newton's method for finding roots of symbolic equation.  Tasks involve basic application, and also considering higher-order Taylor expansion.\n",
    "<br><br>\n",
    "\n",
    "* lab_symdiffeq.ipynb:  http://localhost:8888/notebooks/lab_symdiffeq.ipynb<br>\n",
    "Symbolic first-order RC lowpass step response.  Task requires plotting second-order RLC.<br>\n",
    "* lab_symdiffeq2.ipynb (optional):  http://localhost:8888/notebooks/lab_symdiffeq2.ipynb<br>INCOMPLETE<br><br>\n",
    "\n",
    "* lab_symfseries.ipynb:  http://localhost:8888/notebooks/lab_symfseries.ipynb<br>\n",
    "Using symbolic math to calculate Fourier series coefficients, and lambda functions for numerical reconstruction plots.  Symbolic functions defined using \"Piecewise\" and integrated.\n",
    "<br><br>\n",
    "\n",
    "* lab_reconstruct.ipynb:  http://localhost:8888/notebooks/lab_reconstruct.ipynb<br>\n",
    "Representing continuous-time signal from samples.  Reconstruction using interpolation on regular spacing, and using a RBF with coefficients estimated from samples.  Tasks involve interpolation with different kernels and fitting a polynomial model.\n",
    "<br><br>\n",
    "\n",
    "* lab_convolution.ipynb:  http://localhost:8888/notebooks/lab_convolution.ipynb<br>\n",
    "Requires reconstruct.  Convolution of bandlimited continuous-time signals with discrete-time processing.<br><br>\n",
    "\n",
    "* lab_discdiffeq.ipynb:  http://localhost:8888/notebooks/lab_discdiffeq.ipynb<br>\n",
    "Euler methods for numerical approximate step response of first-order lowpass RC circuit.<br>\n",
    "* lab_discdiffeq2.ipynb (optional):  http://localhost:8888/notebooks/lab_discdiffeq2.ipynb<br>INCOMPLETE<br><br>\n",
    "\n",
    "* lab_bodeplot.ipynb:  http://localhost:8888/notebooks/lab_bodeplot.ipynb<br>\n",
    "Basic plotting of first-order lowpass response, justifying log-log scales.  Task requires plotting second-order.\n",
    "<br>\n",
    "* lab_freqresprclp.ipynb:  http://localhost:8888/notebooks/lab_freqresprclp.ipynb<br>*INCOMPLETE*<br>\n",
    "Requires discdiffeq and bodeplot.  Check task 3 in lab?  Change to RC=0.001 and modify frequency range?  But then can't see transients.<br>\n",
    "\n",
    "Scratch:\n",
    "\n",
    "* lab_symdelta.ipynb:  http://localhost:8888/notebooks/lab_symdelta.ipynb<br>\n",
    "\n",
    "* lab_sym_scratch.ipynb:  http://localhost:8888/notebooks/lab_sym_scratch.ipynb<br>"
   ]
  },
  {
   "cell_type": "code",
   "execution_count": null,
   "metadata": {
    "collapsed": true
   },
   "outputs": [],
   "source": []
  }
 ],
 "metadata": {
  "kernelspec": {
   "display_name": "Python 3",
   "language": "python",
   "name": "python3"
  },
  "language_info": {
   "codemirror_mode": {
    "name": "ipython",
    "version": 3
   },
   "file_extension": ".py",
   "mimetype": "text/x-python",
   "name": "python",
   "nbconvert_exporter": "python",
   "pygments_lexer": "ipython3",
   "version": "3.6.1"
  }
 },
 "nbformat": 4,
 "nbformat_minor": 2
}
