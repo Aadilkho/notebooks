{
 "cells": [
  {
   "cell_type": "markdown",
   "metadata": {},
   "source": [
    "# Laboratories"
   ]
  },
  {
   "cell_type": "markdown",
   "metadata": {},
   "source": [
    "Basic structure:\n",
    "\n",
    "* labX_intro.ipynb:  http://localhost:8888/notebooks/labX_intro.ipynb<br>\n",
    "Getting started, Jupyter, Git, Numpy, Matplotlib.  Tasks involve calculating with numpy arrays and plotting (basic, subplot, complex, 3d)\n",
    "<br><br>\n",
    "\n",
    "* labX_symintro.ipynb:  http://localhost:8888/notebooks/labX_symintro.ipynb<br>\n",
    "Symbolic math with sympy, basic and advanced differentiation, symbolic plotting and integration.  Tasks involve symbolic plotting, roots, differentiation, and integration.\n",
    "\n",
    "Order these.  Symbolic first?\n",
    "\n",
    "* labX_discdiffeq.ipynb:  http://localhost:8888/notebooks/labX_discdiffeq.ipynb<br>\n",
    "Euler methods for numerical approximate step response of first-order lowpass RC circuit.\n",
    "<br><br>\n",
    "\n",
    "* labX_symfseries.ipynb:  http://localhost:8888/notebooks/labX_symfseries.ipynb<br>\n",
    "Using symbolic math to calculate Fourier series coefficients, and lambda functions for numerical reconstruction plots.  Symbolic functions defined using \"Piecewise\" and integrated.\n",
    "<br><br>\n",
    "\n",
    "* labX_bodeplot.ipynb:  http://localhost:8888/notebooks/labX_bodeplot.ipynb<br>\n",
    "Basic plotting of first-order lowpass response, justifying log-log scales.  Task requires plotting second-order.\n",
    "<br><br>\n",
    "\n",
    "* labX_symdiffeq.ipynb:  http://localhost:8888/notebooks/labX_symdiffeq.ipynb<br>\n",
    "Symbolic first-order RC lowpass step response.  Task requires plotting second-order RLC.\n",
    "<br><br>\n",
    "\n",
    "* labX_freqresprclp.ipynb:  http://localhost:8888/notebooks/labX_freqresprclp.ipynb<br>\n",
    "Struggling to complete.  Issue with step size.\n",
    "\n",
    "Scratch:\n",
    "\n",
    "* labX_convolution.ipynb:  http://localhost:8888/notebooks/labX_convolution.ipynb<br>\n",
    "* labX_symdelta.ipynb:  http://localhost:8888/notebooks/labX_symdelta.ipynb<br>\n",
    "* labX_symdiffeq2.ipynb:  http://localhost:8888/notebooks/labX_symdiffeq2.ipynb<br>\n",
    "* labX_symtaylorexp.ipynb: http://localhost:8888/notebooks/labX_symtaylorexp.ipynb\n",
    "* labX_discdiffeq2.ipynb:  http://localhost:8888/notebooks/labX_discdiffeq2.ipynb<br>\t\n",
    "* labX_symnewtonm.ipynb:  http://localhost:8888/notebooks/labX_symnewtonm.ipynb<br>\n",
    "* labX_reconstruct.ipynb:  http://localhost:8888/notebooks/labX_reconstruct.ipynb<br>\n",
    "* labX_sym_scratch.ipynb:  http://localhost:8888/notebooks/labX_sym_scratch.ipynb<br>\n",
    "\n",
    "\t\t\n",
    "\t\t\n",
    "\t\n",
    "\t\n",
    "\t\n",
    "\n",
    "\t\t\n",
    "\t\t\n",
    "\t\t"
   ]
  },
  {
   "cell_type": "code",
   "execution_count": 1,
   "metadata": {
    "collapsed": true
   },
   "outputs": [],
   "source": []
  }
 ],
 "metadata": {
  "kernelspec": {
   "display_name": "Python 3",
   "language": "python",
   "name": "python3"
  },
  "language_info": {
   "codemirror_mode": {
    "name": "ipython",
    "version": 3
   },
   "file_extension": ".py",
   "mimetype": "text/x-python",
   "name": "python",
   "nbconvert_exporter": "python",
   "pygments_lexer": "ipython3",
   "version": "3.6.1"
  }
 },
 "nbformat": 4,
 "nbformat_minor": 2
}
